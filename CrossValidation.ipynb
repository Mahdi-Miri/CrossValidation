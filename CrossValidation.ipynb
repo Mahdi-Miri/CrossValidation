{
  "nbformat": 4,
  "nbformat_minor": 0,
  "metadata": {
    "colab": {
      "provenance": [],
      "authorship_tag": "ABX9TyOrUd4dqeH6ON+fxhiiw1Gj",
      "include_colab_link": true
    },
    "kernelspec": {
      "name": "python3",
      "display_name": "Python 3"
    },
    "language_info": {
      "name": "python"
    }
  },
  "cells": [
    {
      "cell_type": "markdown",
      "metadata": {
        "id": "view-in-github",
        "colab_type": "text"
      },
      "source": [
        "<a href=\"https://colab.research.google.com/github/Mahdi-Miri/CrossValidation/blob/main/CrossValidation.ipynb\" target=\"_parent\"><img src=\"https://colab.research.google.com/assets/colab-badge.svg\" alt=\"Open In Colab\"/></a>"
      ]
    },
    {
      "cell_type": "markdown",
      "source": [
        "# Dataset Creation"
      ],
      "metadata": {
        "id": "7YD2RtkGHf1j"
      }
    },
    {
      "cell_type": "code",
      "execution_count": null,
      "metadata": {
        "id": "-YgGPr4ZFlOI"
      },
      "outputs": [],
      "source": [
        "from sklearn.datasets import make_classification"
      ]
    },
    {
      "cell_type": "code",
      "source": [
        "x, y = make_classification(n_samples=1000,n_features=15, n_redundant=2,random_state=1)"
      ],
      "metadata": {
        "id": "miGHFmmFGWAG"
      },
      "execution_count": null,
      "outputs": []
    },
    {
      "cell_type": "code",
      "source": [
        "x[0]"
      ],
      "metadata": {
        "colab": {
          "base_uri": "https://localhost:8080/"
        },
        "id": "Aqxk8ZaKG8hs",
        "outputId": "ad84842a-2d92-4d99-9e3d-6ebfcda910fe"
      },
      "execution_count": null,
      "outputs": [
        {
          "output_type": "execute_result",
          "data": {
            "text/plain": [
              "array([ 0.47831794, -0.35776457, -0.5648723 , -0.09746196,  0.29441907,\n",
              "        1.33602557,  1.14497791,  1.02762733,  0.64454478, -0.51060303,\n",
              "       -0.45375151, -0.91358531,  2.19295901, -0.53789013, -0.8054077 ])"
            ]
          },
          "metadata": {},
          "execution_count": 7
        }
      ]
    },
    {
      "cell_type": "code",
      "source": [
        "y[0]"
      ],
      "metadata": {
        "colab": {
          "base_uri": "https://localhost:8080/"
        },
        "id": "zW8LfKzNG9o5",
        "outputId": "364c0709-97de-4e5f-e059-e1940ce535c0"
      },
      "execution_count": null,
      "outputs": [
        {
          "output_type": "execute_result",
          "data": {
            "text/plain": [
              "1"
            ]
          },
          "metadata": {},
          "execution_count": 8
        }
      ]
    },
    {
      "cell_type": "markdown",
      "source": [
        "# Model Definition"
      ],
      "metadata": {
        "id": "if3BHmAYHvPN"
      }
    },
    {
      "cell_type": "code",
      "source": [
        "import tensorflow as tf\n",
        "from tensorflow import keras"
      ],
      "metadata": {
        "id": "UlSK1_VMHSLG"
      },
      "execution_count": null,
      "outputs": []
    },
    {
      "cell_type": "code",
      "source": [
        "def create_model():\n",
        "  model  = keras.Sequential()\n",
        "  model.add(keras.layers.Dense(units = 24 , activation = 'relu'))\n",
        "  model.add(keras.layers.Dense(units = 1 , activation = 'sigmoid'))\n",
        "\n",
        "  model.compile(optimizer = 'adam' , loss = 'binary_crossentropy', metrics = ['accuracy'])\n",
        "\n",
        "  return model"
      ],
      "metadata": {
        "id": "ZNmTXnGVH59I"
      },
      "execution_count": 29,
      "outputs": []
    },
    {
      "cell_type": "markdown",
      "source": [
        "# Cross Validation"
      ],
      "metadata": {
        "id": "BJ3KdTebN8n4"
      }
    },
    {
      "cell_type": "code",
      "source": [
        "n_split = 5\n",
        "from sklearn.model_selection import StratifiedKFold\n",
        "from sklearn.metrics import accuracy_score\n"
      ],
      "metadata": {
        "id": "ozRFKEJfOCB-"
      },
      "execution_count": 30,
      "outputs": []
    },
    {
      "cell_type": "code",
      "source": [
        "kf = StratifiedKFold(n_splits = n_split , shuffle=True)"
      ],
      "metadata": {
        "id": "VnNBQuzNOdcc"
      },
      "execution_count": 31,
      "outputs": []
    },
    {
      "cell_type": "code",
      "source": [
        "acc_total = []\n",
        "for train_index , validation_index in kf.split(x,y):\n",
        "  x_train = x[train_index]\n",
        "  y_train = y[train_index]\n",
        "  x_validation = x[validation_index]\n",
        "  y_validation = y[validation_index]\n",
        "\n",
        "  model = create_model()\n",
        "  model.fit(x_train,y_train,epochs = 20 , batch_size = 64 , validation_data=(x_validation,y_validation), verbose = 2)\n",
        "\n",
        "  y_pred = model.predict(x_validation)\n",
        "  y_pred = (y_pred > 0.5).astype(int)\n",
        "\n",
        "  acc = accuracy_score(y_validation,y_pred)\n",
        "  acc_total.append(acc)"
      ],
      "metadata": {
        "colab": {
          "base_uri": "https://localhost:8080/"
        },
        "id": "Xkaqn2ldOrEX",
        "outputId": "4dc4a7d2-aba9-4e7a-b89c-cbecf2bb5d4c"
      },
      "execution_count": 32,
      "outputs": [
        {
          "output_type": "stream",
          "name": "stdout",
          "text": [
            "Epoch 1/20\n",
            "13/13 - 1s - 113ms/step - accuracy: 0.4263 - loss: 0.9034 - val_accuracy: 0.4200 - val_loss: 0.8599\n",
            "Epoch 2/20\n",
            "13/13 - 0s - 29ms/step - accuracy: 0.4462 - loss: 0.8309 - val_accuracy: 0.4450 - val_loss: 0.7976\n",
            "Epoch 3/20\n",
            "13/13 - 0s - 13ms/step - accuracy: 0.4837 - loss: 0.7687 - val_accuracy: 0.5000 - val_loss: 0.7458\n",
            "Epoch 4/20\n",
            "13/13 - 0s - 21ms/step - accuracy: 0.5362 - loss: 0.7180 - val_accuracy: 0.5550 - val_loss: 0.7003\n",
            "Epoch 5/20\n",
            "13/13 - 0s - 10ms/step - accuracy: 0.6012 - loss: 0.6736 - val_accuracy: 0.6000 - val_loss: 0.6606\n",
            "Epoch 6/20\n",
            "13/13 - 0s - 9ms/step - accuracy: 0.6438 - loss: 0.6344 - val_accuracy: 0.6650 - val_loss: 0.6255\n",
            "Epoch 7/20\n",
            "13/13 - 0s - 11ms/step - accuracy: 0.6875 - loss: 0.6003 - val_accuracy: 0.6850 - val_loss: 0.5928\n",
            "Epoch 8/20\n",
            "13/13 - 0s - 11ms/step - accuracy: 0.7300 - loss: 0.5688 - val_accuracy: 0.7350 - val_loss: 0.5637\n",
            "Epoch 9/20\n",
            "13/13 - 0s - 23ms/step - accuracy: 0.7675 - loss: 0.5404 - val_accuracy: 0.7800 - val_loss: 0.5374\n",
            "Epoch 10/20\n",
            "13/13 - 0s - 20ms/step - accuracy: 0.7850 - loss: 0.5149 - val_accuracy: 0.7850 - val_loss: 0.5138\n",
            "Epoch 11/20\n",
            "13/13 - 0s - 9ms/step - accuracy: 0.7987 - loss: 0.4927 - val_accuracy: 0.8200 - val_loss: 0.4914\n",
            "Epoch 12/20\n",
            "13/13 - 0s - 6ms/step - accuracy: 0.8100 - loss: 0.4713 - val_accuracy: 0.8350 - val_loss: 0.4725\n",
            "Epoch 13/20\n",
            "13/13 - 0s - 9ms/step - accuracy: 0.8213 - loss: 0.4534 - val_accuracy: 0.8550 - val_loss: 0.4546\n",
            "Epoch 14/20\n",
            "13/13 - 0s - 6ms/step - accuracy: 0.8288 - loss: 0.4364 - val_accuracy: 0.8600 - val_loss: 0.4387\n",
            "Epoch 15/20\n",
            "13/13 - 0s - 10ms/step - accuracy: 0.8388 - loss: 0.4213 - val_accuracy: 0.8650 - val_loss: 0.4243\n",
            "Epoch 16/20\n",
            "13/13 - 0s - 10ms/step - accuracy: 0.8487 - loss: 0.4081 - val_accuracy: 0.8750 - val_loss: 0.4121\n",
            "Epoch 17/20\n",
            "13/13 - 0s - 10ms/step - accuracy: 0.8525 - loss: 0.3966 - val_accuracy: 0.8750 - val_loss: 0.4016\n",
            "Epoch 18/20\n",
            "13/13 - 0s - 10ms/step - accuracy: 0.8562 - loss: 0.3857 - val_accuracy: 0.8800 - val_loss: 0.3922\n",
            "Epoch 19/20\n",
            "13/13 - 0s - 10ms/step - accuracy: 0.8587 - loss: 0.3769 - val_accuracy: 0.8750 - val_loss: 0.3839\n",
            "Epoch 20/20\n",
            "13/13 - 0s - 11ms/step - accuracy: 0.8637 - loss: 0.3689 - val_accuracy: 0.8750 - val_loss: 0.3772\n",
            "\u001b[1m7/7\u001b[0m \u001b[32m━━━━━━━━━━━━━━━━━━━━\u001b[0m\u001b[37m\u001b[0m \u001b[1m0s\u001b[0m 6ms/step \n",
            "Epoch 1/20\n",
            "13/13 - 1s - 95ms/step - accuracy: 0.5225 - loss: 0.7897 - val_accuracy: 0.5150 - val_loss: 0.7599\n",
            "Epoch 2/20\n",
            "13/13 - 0s - 9ms/step - accuracy: 0.5700 - loss: 0.7191 - val_accuracy: 0.5650 - val_loss: 0.7020\n",
            "Epoch 3/20\n",
            "13/13 - 0s - 6ms/step - accuracy: 0.6062 - loss: 0.6611 - val_accuracy: 0.6100 - val_loss: 0.6582\n",
            "Epoch 4/20\n",
            "13/13 - 0s - 9ms/step - accuracy: 0.6538 - loss: 0.6144 - val_accuracy: 0.6450 - val_loss: 0.6213\n",
            "Epoch 5/20\n",
            "13/13 - 0s - 6ms/step - accuracy: 0.6900 - loss: 0.5755 - val_accuracy: 0.6450 - val_loss: 0.5908\n",
            "Epoch 6/20\n",
            "13/13 - 0s - 11ms/step - accuracy: 0.7200 - loss: 0.5424 - val_accuracy: 0.6700 - val_loss: 0.5642\n",
            "Epoch 7/20\n",
            "13/13 - 0s - 11ms/step - accuracy: 0.7475 - loss: 0.5146 - val_accuracy: 0.7250 - val_loss: 0.5404\n",
            "Epoch 8/20\n",
            "13/13 - 0s - 10ms/step - accuracy: 0.7663 - loss: 0.4898 - val_accuracy: 0.7450 - val_loss: 0.5207\n",
            "Epoch 9/20\n",
            "13/13 - 0s - 7ms/step - accuracy: 0.7950 - loss: 0.4691 - val_accuracy: 0.7500 - val_loss: 0.5035\n",
            "Epoch 10/20\n",
            "13/13 - 0s - 7ms/step - accuracy: 0.8188 - loss: 0.4506 - val_accuracy: 0.7750 - val_loss: 0.4874\n",
            "Epoch 11/20\n",
            "13/13 - 0s - 6ms/step - accuracy: 0.8350 - loss: 0.4347 - val_accuracy: 0.8000 - val_loss: 0.4720\n",
            "Epoch 12/20\n",
            "13/13 - 0s - 6ms/step - accuracy: 0.8475 - loss: 0.4208 - val_accuracy: 0.8200 - val_loss: 0.4591\n",
            "Epoch 13/20\n",
            "13/13 - 0s - 5ms/step - accuracy: 0.8537 - loss: 0.4076 - val_accuracy: 0.8300 - val_loss: 0.4481\n",
            "Epoch 14/20\n",
            "13/13 - 0s - 5ms/step - accuracy: 0.8587 - loss: 0.3961 - val_accuracy: 0.8300 - val_loss: 0.4388\n",
            "Epoch 15/20\n",
            "13/13 - 0s - 5ms/step - accuracy: 0.8625 - loss: 0.3866 - val_accuracy: 0.8300 - val_loss: 0.4313\n",
            "Epoch 16/20\n",
            "13/13 - 0s - 11ms/step - accuracy: 0.8662 - loss: 0.3778 - val_accuracy: 0.8400 - val_loss: 0.4236\n",
            "Epoch 17/20\n",
            "13/13 - 0s - 6ms/step - accuracy: 0.8675 - loss: 0.3698 - val_accuracy: 0.8350 - val_loss: 0.4171\n",
            "Epoch 18/20\n",
            "13/13 - 0s - 5ms/step - accuracy: 0.8725 - loss: 0.3629 - val_accuracy: 0.8400 - val_loss: 0.4108\n",
            "Epoch 19/20\n",
            "13/13 - 0s - 6ms/step - accuracy: 0.8700 - loss: 0.3565 - val_accuracy: 0.8450 - val_loss: 0.4046\n",
            "Epoch 20/20\n",
            "13/13 - 0s - 12ms/step - accuracy: 0.8725 - loss: 0.3514 - val_accuracy: 0.8400 - val_loss: 0.4001\n",
            "\u001b[1m7/7\u001b[0m \u001b[32m━━━━━━━━━━━━━━━━━━━━\u001b[0m\u001b[37m\u001b[0m \u001b[1m0s\u001b[0m 6ms/step \n",
            "Epoch 1/20\n",
            "13/13 - 1s - 93ms/step - accuracy: 0.5188 - loss: 0.7553 - val_accuracy: 0.5250 - val_loss: 0.7186\n",
            "Epoch 2/20\n",
            "13/13 - 0s - 11ms/step - accuracy: 0.5688 - loss: 0.6885 - val_accuracy: 0.5650 - val_loss: 0.6617\n",
            "Epoch 3/20\n",
            "13/13 - 0s - 11ms/step - accuracy: 0.6450 - loss: 0.6373 - val_accuracy: 0.6600 - val_loss: 0.6141\n",
            "Epoch 4/20\n",
            "13/13 - 0s - 11ms/step - accuracy: 0.7063 - loss: 0.5976 - val_accuracy: 0.7300 - val_loss: 0.5735\n",
            "Epoch 5/20\n",
            "13/13 - 0s - 9ms/step - accuracy: 0.7538 - loss: 0.5635 - val_accuracy: 0.7600 - val_loss: 0.5413\n",
            "Epoch 6/20\n",
            "13/13 - 0s - 6ms/step - accuracy: 0.7825 - loss: 0.5355 - val_accuracy: 0.7950 - val_loss: 0.5123\n",
            "Epoch 7/20\n",
            "13/13 - 0s - 5ms/step - accuracy: 0.8025 - loss: 0.5124 - val_accuracy: 0.8150 - val_loss: 0.4869\n",
            "Epoch 8/20\n",
            "13/13 - 0s - 5ms/step - accuracy: 0.8188 - loss: 0.4912 - val_accuracy: 0.8350 - val_loss: 0.4642\n",
            "Epoch 9/20\n",
            "13/13 - 0s - 7ms/step - accuracy: 0.8313 - loss: 0.4726 - val_accuracy: 0.8450 - val_loss: 0.4443\n",
            "Epoch 10/20\n",
            "13/13 - 0s - 6ms/step - accuracy: 0.8338 - loss: 0.4559 - val_accuracy: 0.8550 - val_loss: 0.4255\n",
            "Epoch 11/20\n",
            "13/13 - 0s - 11ms/step - accuracy: 0.8375 - loss: 0.4404 - val_accuracy: 0.8600 - val_loss: 0.4093\n",
            "Epoch 12/20\n",
            "13/13 - 0s - 7ms/step - accuracy: 0.8438 - loss: 0.4269 - val_accuracy: 0.8600 - val_loss: 0.3956\n",
            "Epoch 13/20\n",
            "13/13 - 0s - 11ms/step - accuracy: 0.8512 - loss: 0.4142 - val_accuracy: 0.8650 - val_loss: 0.3833\n",
            "Epoch 14/20\n",
            "13/13 - 0s - 9ms/step - accuracy: 0.8550 - loss: 0.4033 - val_accuracy: 0.8750 - val_loss: 0.3715\n",
            "Epoch 15/20\n",
            "13/13 - 0s - 12ms/step - accuracy: 0.8550 - loss: 0.3929 - val_accuracy: 0.8750 - val_loss: 0.3620\n",
            "Epoch 16/20\n",
            "13/13 - 0s - 6ms/step - accuracy: 0.8575 - loss: 0.3841 - val_accuracy: 0.8800 - val_loss: 0.3524\n",
            "Epoch 17/20\n",
            "13/13 - 0s - 10ms/step - accuracy: 0.8600 - loss: 0.3757 - val_accuracy: 0.8850 - val_loss: 0.3449\n",
            "Epoch 18/20\n",
            "13/13 - 0s - 12ms/step - accuracy: 0.8625 - loss: 0.3684 - val_accuracy: 0.8850 - val_loss: 0.3379\n",
            "Epoch 19/20\n",
            "13/13 - 0s - 11ms/step - accuracy: 0.8637 - loss: 0.3616 - val_accuracy: 0.8850 - val_loss: 0.3318\n",
            "Epoch 20/20\n",
            "13/13 - 0s - 10ms/step - accuracy: 0.8725 - loss: 0.3557 - val_accuracy: 0.8900 - val_loss: 0.3269\n",
            "\u001b[1m7/7\u001b[0m \u001b[32m━━━━━━━━━━━━━━━━━━━━\u001b[0m\u001b[37m\u001b[0m \u001b[1m0s\u001b[0m 6ms/step \n",
            "Epoch 1/20\n",
            "13/13 - 1s - 113ms/step - accuracy: 0.4375 - loss: 0.8786 - val_accuracy: 0.4600 - val_loss: 0.8153\n",
            "Epoch 2/20\n",
            "13/13 - 0s - 31ms/step - accuracy: 0.4888 - loss: 0.7780 - val_accuracy: 0.5550 - val_loss: 0.7371\n",
            "Epoch 3/20\n",
            "13/13 - 0s - 10ms/step - accuracy: 0.5550 - loss: 0.6972 - val_accuracy: 0.6150 - val_loss: 0.6743\n",
            "Epoch 4/20\n",
            "13/13 - 0s - 9ms/step - accuracy: 0.6350 - loss: 0.6350 - val_accuracy: 0.6650 - val_loss: 0.6253\n",
            "Epoch 5/20\n",
            "13/13 - 0s - 9ms/step - accuracy: 0.7000 - loss: 0.5862 - val_accuracy: 0.7200 - val_loss: 0.5866\n",
            "Epoch 6/20\n",
            "13/13 - 0s - 11ms/step - accuracy: 0.7550 - loss: 0.5486 - val_accuracy: 0.7500 - val_loss: 0.5568\n",
            "Epoch 7/20\n",
            "13/13 - 0s - 11ms/step - accuracy: 0.7788 - loss: 0.5196 - val_accuracy: 0.7750 - val_loss: 0.5308\n",
            "Epoch 8/20\n",
            "13/13 - 0s - 12ms/step - accuracy: 0.7975 - loss: 0.4929 - val_accuracy: 0.7750 - val_loss: 0.5108\n",
            "Epoch 9/20\n",
            "13/13 - 0s - 10ms/step - accuracy: 0.8100 - loss: 0.4728 - val_accuracy: 0.7750 - val_loss: 0.4923\n",
            "Epoch 10/20\n",
            "13/13 - 0s - 11ms/step - accuracy: 0.8225 - loss: 0.4540 - val_accuracy: 0.8000 - val_loss: 0.4758\n",
            "Epoch 11/20\n",
            "13/13 - 0s - 8ms/step - accuracy: 0.8300 - loss: 0.4374 - val_accuracy: 0.8300 - val_loss: 0.4613\n",
            "Epoch 12/20\n",
            "13/13 - 0s - 5ms/step - accuracy: 0.8450 - loss: 0.4234 - val_accuracy: 0.8350 - val_loss: 0.4481\n",
            "Epoch 13/20\n",
            "13/13 - 0s - 12ms/step - accuracy: 0.8500 - loss: 0.4103 - val_accuracy: 0.8450 - val_loss: 0.4368\n",
            "Epoch 14/20\n",
            "13/13 - 0s - 10ms/step - accuracy: 0.8512 - loss: 0.3992 - val_accuracy: 0.8550 - val_loss: 0.4268\n",
            "Epoch 15/20\n",
            "13/13 - 0s - 10ms/step - accuracy: 0.8562 - loss: 0.3889 - val_accuracy: 0.8600 - val_loss: 0.4182\n",
            "Epoch 16/20\n",
            "13/13 - 0s - 12ms/step - accuracy: 0.8575 - loss: 0.3799 - val_accuracy: 0.8600 - val_loss: 0.4107\n",
            "Epoch 17/20\n",
            "13/13 - 0s - 9ms/step - accuracy: 0.8637 - loss: 0.3719 - val_accuracy: 0.8650 - val_loss: 0.4037\n",
            "Epoch 18/20\n",
            "13/13 - 0s - 5ms/step - accuracy: 0.8650 - loss: 0.3646 - val_accuracy: 0.8650 - val_loss: 0.3979\n",
            "Epoch 19/20\n",
            "13/13 - 0s - 5ms/step - accuracy: 0.8650 - loss: 0.3582 - val_accuracy: 0.8700 - val_loss: 0.3921\n",
            "Epoch 20/20\n",
            "13/13 - 0s - 6ms/step - accuracy: 0.8662 - loss: 0.3523 - val_accuracy: 0.8700 - val_loss: 0.3872\n",
            "\u001b[1m7/7\u001b[0m \u001b[32m━━━━━━━━━━━━━━━━━━━━\u001b[0m\u001b[37m\u001b[0m \u001b[1m0s\u001b[0m 6ms/step \n",
            "Epoch 1/20\n",
            "13/13 - 1s - 94ms/step - accuracy: 0.6938 - loss: 0.6011 - val_accuracy: 0.7500 - val_loss: 0.5751\n",
            "Epoch 2/20\n",
            "13/13 - 0s - 9ms/step - accuracy: 0.7450 - loss: 0.5588 - val_accuracy: 0.7500 - val_loss: 0.5472\n",
            "Epoch 3/20\n",
            "13/13 - 0s - 6ms/step - accuracy: 0.7738 - loss: 0.5241 - val_accuracy: 0.7750 - val_loss: 0.5228\n",
            "Epoch 4/20\n",
            "13/13 - 0s - 11ms/step - accuracy: 0.8050 - loss: 0.4950 - val_accuracy: 0.7800 - val_loss: 0.5033\n",
            "Epoch 5/20\n",
            "13/13 - 0s - 6ms/step - accuracy: 0.8250 - loss: 0.4705 - val_accuracy: 0.7950 - val_loss: 0.4858\n",
            "Epoch 6/20\n",
            "13/13 - 0s - 5ms/step - accuracy: 0.8375 - loss: 0.4491 - val_accuracy: 0.7900 - val_loss: 0.4725\n",
            "Epoch 7/20\n",
            "13/13 - 0s - 5ms/step - accuracy: 0.8487 - loss: 0.4310 - val_accuracy: 0.8000 - val_loss: 0.4605\n",
            "Epoch 8/20\n",
            "13/13 - 0s - 5ms/step - accuracy: 0.8537 - loss: 0.4153 - val_accuracy: 0.8000 - val_loss: 0.4512\n",
            "Epoch 9/20\n",
            "13/13 - 0s - 5ms/step - accuracy: 0.8575 - loss: 0.4016 - val_accuracy: 0.8100 - val_loss: 0.4420\n",
            "Epoch 10/20\n",
            "13/13 - 0s - 5ms/step - accuracy: 0.8550 - loss: 0.3898 - val_accuracy: 0.8200 - val_loss: 0.4345\n",
            "Epoch 11/20\n",
            "13/13 - 0s - 11ms/step - accuracy: 0.8625 - loss: 0.3793 - val_accuracy: 0.8150 - val_loss: 0.4277\n",
            "Epoch 12/20\n",
            "13/13 - 0s - 6ms/step - accuracy: 0.8675 - loss: 0.3704 - val_accuracy: 0.8200 - val_loss: 0.4222\n",
            "Epoch 13/20\n",
            "13/13 - 0s - 6ms/step - accuracy: 0.8675 - loss: 0.3621 - val_accuracy: 0.8150 - val_loss: 0.4161\n",
            "Epoch 14/20\n",
            "13/13 - 0s - 9ms/step - accuracy: 0.8700 - loss: 0.3552 - val_accuracy: 0.8150 - val_loss: 0.4117\n",
            "Epoch 15/20\n",
            "13/13 - 0s - 12ms/step - accuracy: 0.8763 - loss: 0.3485 - val_accuracy: 0.8150 - val_loss: 0.4075\n",
            "Epoch 16/20\n",
            "13/13 - 0s - 10ms/step - accuracy: 0.8788 - loss: 0.3431 - val_accuracy: 0.8150 - val_loss: 0.4044\n",
            "Epoch 17/20\n",
            "13/13 - 0s - 9ms/step - accuracy: 0.8788 - loss: 0.3378 - val_accuracy: 0.8150 - val_loss: 0.4021\n",
            "Epoch 18/20\n",
            "13/13 - 0s - 13ms/step - accuracy: 0.8800 - loss: 0.3331 - val_accuracy: 0.8200 - val_loss: 0.4001\n",
            "Epoch 19/20\n",
            "13/13 - 0s - 6ms/step - accuracy: 0.8825 - loss: 0.3290 - val_accuracy: 0.8200 - val_loss: 0.3990\n",
            "Epoch 20/20\n",
            "13/13 - 0s - 5ms/step - accuracy: 0.8863 - loss: 0.3252 - val_accuracy: 0.8150 - val_loss: 0.3973\n",
            "\u001b[1m7/7\u001b[0m \u001b[32m━━━━━━━━━━━━━━━━━━━━\u001b[0m\u001b[37m\u001b[0m \u001b[1m0s\u001b[0m 8ms/step \n"
          ]
        }
      ]
    },
    {
      "cell_type": "code",
      "source": [
        "acc_total"
      ],
      "metadata": {
        "colab": {
          "base_uri": "https://localhost:8080/"
        },
        "id": "u92rVfq_P_XV",
        "outputId": "5db9f81c-c944-4e79-cdec-93574e530049"
      },
      "execution_count": 33,
      "outputs": [
        {
          "output_type": "execute_result",
          "data": {
            "text/plain": [
              "[0.875, 0.84, 0.89, 0.87, 0.815]"
            ]
          },
          "metadata": {},
          "execution_count": 33
        }
      ]
    },
    {
      "cell_type": "code",
      "source": [
        "import numpy as np"
      ],
      "metadata": {
        "id": "tWyWyLt6RkLk"
      },
      "execution_count": 34,
      "outputs": []
    },
    {
      "cell_type": "code",
      "source": [
        "np.mean(acc_total)"
      ],
      "metadata": {
        "id": "yDEJ3BzvRtdj",
        "outputId": "109e26b1-ae5d-45a4-d502-47c2604c256c",
        "colab": {
          "base_uri": "https://localhost:8080/"
        }
      },
      "execution_count": 35,
      "outputs": [
        {
          "output_type": "execute_result",
          "data": {
            "text/plain": [
              "0.858"
            ]
          },
          "metadata": {},
          "execution_count": 35
        }
      ]
    },
    {
      "cell_type": "code",
      "source": [],
      "metadata": {
        "id": "UFl0J6jlRv0K"
      },
      "execution_count": 35,
      "outputs": []
    }
  ]
}