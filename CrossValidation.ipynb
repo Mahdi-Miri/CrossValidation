{
  "nbformat": 4,
  "nbformat_minor": 0,
  "metadata": {
    "colab": {
      "provenance": [],
      "authorship_tag": "ABX9TyMDbIK3A4n/PAsR8hkuotjw",
      "include_colab_link": true
    },
    "kernelspec": {
      "name": "python3",
      "display_name": "Python 3"
    },
    "language_info": {
      "name": "python"
    }
  },
  "cells": [
    {
      "cell_type": "markdown",
      "metadata": {
        "id": "view-in-github",
        "colab_type": "text"
      },
      "source": [
        "<a href=\"https://colab.research.google.com/github/Mahdi-Miri/CrossValidation/blob/main/CrossValidation.ipynb\" target=\"_parent\"><img src=\"https://colab.research.google.com/assets/colab-badge.svg\" alt=\"Open In Colab\"/></a>"
      ]
    },
    {
      "cell_type": "code",
      "execution_count": 1,
      "metadata": {
        "id": "-YgGPr4ZFlOI"
      },
      "outputs": [],
      "source": [
        "from sklearn.datasets import make_classification"
      ]
    },
    {
      "cell_type": "code",
      "source": [
        "x, y = make_classification(n_samples=1000,n_features=15, n_redundant=2,random_state=1)"
      ],
      "metadata": {
        "id": "miGHFmmFGWAG"
      },
      "execution_count": 6,
      "outputs": []
    },
    {
      "cell_type": "code",
      "source": [
        "x[0]"
      ],
      "metadata": {
        "colab": {
          "base_uri": "https://localhost:8080/"
        },
        "id": "Aqxk8ZaKG8hs",
        "outputId": "ad84842a-2d92-4d99-9e3d-6ebfcda910fe"
      },
      "execution_count": 7,
      "outputs": [
        {
          "output_type": "execute_result",
          "data": {
            "text/plain": [
              "array([ 0.47831794, -0.35776457, -0.5648723 , -0.09746196,  0.29441907,\n",
              "        1.33602557,  1.14497791,  1.02762733,  0.64454478, -0.51060303,\n",
              "       -0.45375151, -0.91358531,  2.19295901, -0.53789013, -0.8054077 ])"
            ]
          },
          "metadata": {},
          "execution_count": 7
        }
      ]
    },
    {
      "cell_type": "code",
      "source": [],
      "metadata": {
        "id": "zW8LfKzNG9o5"
      },
      "execution_count": null,
      "outputs": []
    }
  ]
}