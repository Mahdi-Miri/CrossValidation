{
  "nbformat": 4,
  "nbformat_minor": 0,
  "metadata": {
    "colab": {
      "provenance": [],
      "authorship_tag": "ABX9TyNd1h0ZBV2FySaFSVx7eEaY",
      "include_colab_link": true
    },
    "kernelspec": {
      "name": "python3",
      "display_name": "Python 3"
    },
    "language_info": {
      "name": "python"
    }
  },
  "cells": [
    {
      "cell_type": "markdown",
      "metadata": {
        "id": "view-in-github",
        "colab_type": "text"
      },
      "source": [
        "<a href=\"https://colab.research.google.com/github/Mahdi-Miri/CrossValidation/blob/main/CrossValidation.ipynb\" target=\"_parent\"><img src=\"https://colab.research.google.com/assets/colab-badge.svg\" alt=\"Open In Colab\"/></a>"
      ]
    },
    {
      "cell_type": "markdown",
      "source": [
        "# Dataset Creation"
      ],
      "metadata": {
        "id": "7YD2RtkGHf1j"
      }
    },
    {
      "cell_type": "code",
      "execution_count": null,
      "metadata": {
        "id": "-YgGPr4ZFlOI"
      },
      "outputs": [],
      "source": [
        "from sklearn.datasets import make_classification"
      ]
    },
    {
      "cell_type": "code",
      "source": [
        "x, y = make_classification(n_samples=1000,n_features=15, n_redundant=2,random_state=1)"
      ],
      "metadata": {
        "id": "miGHFmmFGWAG"
      },
      "execution_count": null,
      "outputs": []
    },
    {
      "cell_type": "code",
      "source": [
        "x[0]"
      ],
      "metadata": {
        "colab": {
          "base_uri": "https://localhost:8080/"
        },
        "id": "Aqxk8ZaKG8hs",
        "outputId": "ad84842a-2d92-4d99-9e3d-6ebfcda910fe"
      },
      "execution_count": null,
      "outputs": [
        {
          "output_type": "execute_result",
          "data": {
            "text/plain": [
              "array([ 0.47831794, -0.35776457, -0.5648723 , -0.09746196,  0.29441907,\n",
              "        1.33602557,  1.14497791,  1.02762733,  0.64454478, -0.51060303,\n",
              "       -0.45375151, -0.91358531,  2.19295901, -0.53789013, -0.8054077 ])"
            ]
          },
          "metadata": {},
          "execution_count": 7
        }
      ]
    },
    {
      "cell_type": "code",
      "source": [
        "y[0]"
      ],
      "metadata": {
        "colab": {
          "base_uri": "https://localhost:8080/"
        },
        "id": "zW8LfKzNG9o5",
        "outputId": "364c0709-97de-4e5f-e059-e1940ce535c0"
      },
      "execution_count": null,
      "outputs": [
        {
          "output_type": "execute_result",
          "data": {
            "text/plain": [
              "1"
            ]
          },
          "metadata": {},
          "execution_count": 8
        }
      ]
    },
    {
      "cell_type": "markdown",
      "source": [
        "# Model Definition"
      ],
      "metadata": {
        "id": "if3BHmAYHvPN"
      }
    },
    {
      "cell_type": "code",
      "source": [
        "import tensorflow as tf\n",
        "from tensorflow import keras"
      ],
      "metadata": {
        "id": "UlSK1_VMHSLG"
      },
      "execution_count": null,
      "outputs": []
    },
    {
      "cell_type": "code",
      "source": [
        "def create_model():\n",
        "  model  = keras.Sequential()\n",
        "  model.add(keras.layers.Dense(units = 16 , activation = 'relu'))\n",
        "  model.add(keras.layers.Dense(units = 1 , activation = 'sigmoid'))\n",
        "\n",
        "  model.compile(optimizer = 'adam' , loss = 'binary_crossentropy', metrics = ['accuracy'])\n",
        "\n",
        "  return model"
      ],
      "metadata": {
        "id": "ZNmTXnGVH59I"
      },
      "execution_count": 21,
      "outputs": []
    },
    {
      "cell_type": "markdown",
      "source": [
        "# Cross Validation"
      ],
      "metadata": {
        "id": "BJ3KdTebN8n4"
      }
    },
    {
      "cell_type": "code",
      "source": [
        "n_split = 5\n",
        "from sklearn.model_selection import StratifiedKFold\n",
        "from sklearn.metrics import accuracy_score\n"
      ],
      "metadata": {
        "id": "ozRFKEJfOCB-"
      },
      "execution_count": 22,
      "outputs": []
    },
    {
      "cell_type": "code",
      "source": [
        "kf = StratifiedKFold(n_splits = n_split , shuffle=True)"
      ],
      "metadata": {
        "id": "VnNBQuzNOdcc"
      },
      "execution_count": 23,
      "outputs": []
    },
    {
      "cell_type": "code",
      "source": [
        "acc_total = []\n",
        "for train_index , validation_index in kf.split(x,y):\n",
        "  x_train = x[train_index]\n",
        "  y_train = y[train_index]\n",
        "  x_validation = x[validation_index]\n",
        "  y_validation = y[validation_index]\n",
        "\n",
        "  model = create_model()\n",
        "  model.fit(x_train,y_train,epochs = 20 , batch_size = 64 , validation_data=(x_validation,y_validation), verbose = 2)\n",
        "\n",
        "  y_pred = model.predict(x_validation)\n",
        "  y_pred = (y_pred > 0.5).astype(int)\n",
        "\n",
        "  acc = accuracy_score(y_validation,y_pred)\n",
        "  acc_total.append(acc)"
      ],
      "metadata": {
        "colab": {
          "base_uri": "https://localhost:8080/"
        },
        "id": "Xkaqn2ldOrEX",
        "outputId": "733148f9-7475-43a6-f0fa-d8df1856589a"
      },
      "execution_count": 25,
      "outputs": [
        {
          "output_type": "stream",
          "name": "stdout",
          "text": [
            "Epoch 1/20\n",
            "13/13 - 1s - 106ms/step - accuracy: 0.5500 - loss: 0.7166 - val_accuracy: 0.5650 - val_loss: 0.7443\n",
            "Epoch 2/20\n",
            "13/13 - 0s - 29ms/step - accuracy: 0.6075 - loss: 0.6637 - val_accuracy: 0.6000 - val_loss: 0.6924\n",
            "Epoch 3/20\n",
            "13/13 - 0s - 9ms/step - accuracy: 0.6450 - loss: 0.6235 - val_accuracy: 0.6350 - val_loss: 0.6491\n",
            "Epoch 4/20\n",
            "13/13 - 0s - 5ms/step - accuracy: 0.6850 - loss: 0.5902 - val_accuracy: 0.6650 - val_loss: 0.6135\n",
            "Epoch 5/20\n",
            "13/13 - 0s - 12ms/step - accuracy: 0.7163 - loss: 0.5631 - val_accuracy: 0.7100 - val_loss: 0.5839\n",
            "Epoch 6/20\n",
            "13/13 - 0s - 9ms/step - accuracy: 0.7437 - loss: 0.5410 - val_accuracy: 0.7450 - val_loss: 0.5583\n",
            "Epoch 7/20\n",
            "13/13 - 0s - 10ms/step - accuracy: 0.7563 - loss: 0.5219 - val_accuracy: 0.7650 - val_loss: 0.5354\n",
            "Epoch 8/20\n",
            "13/13 - 0s - 6ms/step - accuracy: 0.7650 - loss: 0.5051 - val_accuracy: 0.7850 - val_loss: 0.5167\n",
            "Epoch 9/20\n",
            "13/13 - 0s - 8ms/step - accuracy: 0.7775 - loss: 0.4902 - val_accuracy: 0.7950 - val_loss: 0.4988\n",
            "Epoch 10/20\n",
            "13/13 - 0s - 9ms/step - accuracy: 0.7837 - loss: 0.4767 - val_accuracy: 0.8050 - val_loss: 0.4832\n",
            "Epoch 11/20\n",
            "13/13 - 0s - 10ms/step - accuracy: 0.8012 - loss: 0.4646 - val_accuracy: 0.8100 - val_loss: 0.4689\n",
            "Epoch 12/20\n",
            "13/13 - 0s - 11ms/step - accuracy: 0.8062 - loss: 0.4534 - val_accuracy: 0.8150 - val_loss: 0.4567\n",
            "Epoch 13/20\n",
            "13/13 - 0s - 11ms/step - accuracy: 0.8138 - loss: 0.4426 - val_accuracy: 0.8300 - val_loss: 0.4450\n",
            "Epoch 14/20\n",
            "13/13 - 0s - 10ms/step - accuracy: 0.8288 - loss: 0.4332 - val_accuracy: 0.8300 - val_loss: 0.4338\n",
            "Epoch 15/20\n",
            "13/13 - 0s - 10ms/step - accuracy: 0.8325 - loss: 0.4245 - val_accuracy: 0.8350 - val_loss: 0.4241\n",
            "Epoch 16/20\n",
            "13/13 - 0s - 9ms/step - accuracy: 0.8400 - loss: 0.4160 - val_accuracy: 0.8350 - val_loss: 0.4154\n",
            "Epoch 17/20\n",
            "13/13 - 0s - 10ms/step - accuracy: 0.8438 - loss: 0.4087 - val_accuracy: 0.8450 - val_loss: 0.4064\n",
            "Epoch 18/20\n",
            "13/13 - 0s - 10ms/step - accuracy: 0.8425 - loss: 0.4014 - val_accuracy: 0.8450 - val_loss: 0.3992\n",
            "Epoch 19/20\n",
            "13/13 - 0s - 12ms/step - accuracy: 0.8438 - loss: 0.3950 - val_accuracy: 0.8550 - val_loss: 0.3929\n",
            "Epoch 20/20\n",
            "13/13 - 0s - 9ms/step - accuracy: 0.8475 - loss: 0.3891 - val_accuracy: 0.8550 - val_loss: 0.3876\n",
            "\u001b[1m7/7\u001b[0m \u001b[32m━━━━━━━━━━━━━━━━━━━━\u001b[0m\u001b[37m\u001b[0m \u001b[1m0s\u001b[0m 10ms/step\n",
            "Epoch 1/20\n",
            "13/13 - 1s - 99ms/step - accuracy: 0.4963 - loss: 0.7346 - val_accuracy: 0.5700 - val_loss: 0.7077\n",
            "Epoch 2/20\n",
            "13/13 - 0s - 11ms/step - accuracy: 0.5412 - loss: 0.6882 - val_accuracy: 0.6000 - val_loss: 0.6799\n",
            "Epoch 3/20\n",
            "13/13 - 0s - 12ms/step - accuracy: 0.5987 - loss: 0.6491 - val_accuracy: 0.6200 - val_loss: 0.6561\n",
            "Epoch 4/20\n",
            "13/13 - 0s - 8ms/step - accuracy: 0.6513 - loss: 0.6153 - val_accuracy: 0.6600 - val_loss: 0.6356\n",
            "Epoch 5/20\n",
            "13/13 - 0s - 11ms/step - accuracy: 0.6812 - loss: 0.5854 - val_accuracy: 0.6850 - val_loss: 0.6168\n",
            "Epoch 6/20\n",
            "13/13 - 0s - 5ms/step - accuracy: 0.7138 - loss: 0.5601 - val_accuracy: 0.7100 - val_loss: 0.5995\n",
            "Epoch 7/20\n",
            "13/13 - 0s - 11ms/step - accuracy: 0.7362 - loss: 0.5367 - val_accuracy: 0.7200 - val_loss: 0.5837\n",
            "Epoch 8/20\n",
            "13/13 - 0s - 11ms/step - accuracy: 0.7600 - loss: 0.5163 - val_accuracy: 0.7300 - val_loss: 0.5690\n",
            "Epoch 9/20\n",
            "13/13 - 0s - 10ms/step - accuracy: 0.7750 - loss: 0.4978 - val_accuracy: 0.7550 - val_loss: 0.5545\n",
            "Epoch 10/20\n",
            "13/13 - 0s - 9ms/step - accuracy: 0.7887 - loss: 0.4809 - val_accuracy: 0.7600 - val_loss: 0.5420\n",
            "Epoch 11/20\n",
            "13/13 - 0s - 12ms/step - accuracy: 0.7987 - loss: 0.4657 - val_accuracy: 0.7600 - val_loss: 0.5300\n",
            "Epoch 12/20\n",
            "13/13 - 0s - 5ms/step - accuracy: 0.8062 - loss: 0.4518 - val_accuracy: 0.7700 - val_loss: 0.5190\n",
            "Epoch 13/20\n",
            "13/13 - 0s - 12ms/step - accuracy: 0.8138 - loss: 0.4391 - val_accuracy: 0.7700 - val_loss: 0.5098\n",
            "Epoch 14/20\n",
            "13/13 - 0s - 5ms/step - accuracy: 0.8188 - loss: 0.4276 - val_accuracy: 0.7850 - val_loss: 0.5012\n",
            "Epoch 15/20\n",
            "13/13 - 0s - 11ms/step - accuracy: 0.8288 - loss: 0.4173 - val_accuracy: 0.7950 - val_loss: 0.4932\n",
            "Epoch 16/20\n",
            "13/13 - 0s - 5ms/step - accuracy: 0.8363 - loss: 0.4078 - val_accuracy: 0.8000 - val_loss: 0.4858\n",
            "Epoch 17/20\n",
            "13/13 - 0s - 5ms/step - accuracy: 0.8400 - loss: 0.3993 - val_accuracy: 0.8000 - val_loss: 0.4795\n",
            "Epoch 18/20\n",
            "13/13 - 0s - 6ms/step - accuracy: 0.8425 - loss: 0.3915 - val_accuracy: 0.8000 - val_loss: 0.4731\n",
            "Epoch 19/20\n",
            "13/13 - 0s - 10ms/step - accuracy: 0.8462 - loss: 0.3842 - val_accuracy: 0.8100 - val_loss: 0.4673\n",
            "Epoch 20/20\n",
            "13/13 - 0s - 11ms/step - accuracy: 0.8487 - loss: 0.3777 - val_accuracy: 0.8250 - val_loss: 0.4622\n",
            "\u001b[1m7/7\u001b[0m \u001b[32m━━━━━━━━━━━━━━━━━━━━\u001b[0m\u001b[37m\u001b[0m \u001b[1m0s\u001b[0m 6ms/step \n",
            "Epoch 1/20\n",
            "13/13 - 1s - 90ms/step - accuracy: 0.5250 - loss: 0.8474 - val_accuracy: 0.5600 - val_loss: 0.7705\n",
            "Epoch 2/20\n",
            "13/13 - 0s - 6ms/step - accuracy: 0.5462 - loss: 0.7794 - val_accuracy: 0.5750 - val_loss: 0.7130\n",
            "Epoch 3/20\n",
            "13/13 - 0s - 5ms/step - accuracy: 0.5713 - loss: 0.7259 - val_accuracy: 0.5950 - val_loss: 0.6617\n",
            "Epoch 4/20\n",
            "13/13 - 0s - 6ms/step - accuracy: 0.6112 - loss: 0.6799 - val_accuracy: 0.6450 - val_loss: 0.6191\n",
            "Epoch 5/20\n",
            "13/13 - 0s - 10ms/step - accuracy: 0.6375 - loss: 0.6427 - val_accuracy: 0.6850 - val_loss: 0.5831\n",
            "Epoch 6/20\n",
            "13/13 - 0s - 5ms/step - accuracy: 0.6700 - loss: 0.6092 - val_accuracy: 0.7050 - val_loss: 0.5549\n",
            "Epoch 7/20\n",
            "13/13 - 0s - 7ms/step - accuracy: 0.7050 - loss: 0.5815 - val_accuracy: 0.7250 - val_loss: 0.5305\n",
            "Epoch 8/20\n",
            "13/13 - 0s - 9ms/step - accuracy: 0.7375 - loss: 0.5575 - val_accuracy: 0.7300 - val_loss: 0.5092\n",
            "Epoch 9/20\n",
            "13/13 - 0s - 5ms/step - accuracy: 0.7538 - loss: 0.5358 - val_accuracy: 0.7400 - val_loss: 0.4909\n",
            "Epoch 10/20\n",
            "13/13 - 0s - 5ms/step - accuracy: 0.7763 - loss: 0.5167 - val_accuracy: 0.7550 - val_loss: 0.4741\n",
            "Epoch 11/20\n",
            "13/13 - 0s - 6ms/step - accuracy: 0.7900 - loss: 0.4994 - val_accuracy: 0.7900 - val_loss: 0.4593\n",
            "Epoch 12/20\n",
            "13/13 - 0s - 9ms/step - accuracy: 0.8050 - loss: 0.4830 - val_accuracy: 0.7950 - val_loss: 0.4467\n",
            "Epoch 13/20\n",
            "13/13 - 0s - 5ms/step - accuracy: 0.8213 - loss: 0.4686 - val_accuracy: 0.7900 - val_loss: 0.4355\n",
            "Epoch 14/20\n",
            "13/13 - 0s - 5ms/step - accuracy: 0.8275 - loss: 0.4550 - val_accuracy: 0.8000 - val_loss: 0.4248\n",
            "Epoch 15/20\n",
            "13/13 - 0s - 11ms/step - accuracy: 0.8375 - loss: 0.4424 - val_accuracy: 0.8150 - val_loss: 0.4158\n",
            "Epoch 16/20\n",
            "13/13 - 0s - 11ms/step - accuracy: 0.8425 - loss: 0.4308 - val_accuracy: 0.8250 - val_loss: 0.4076\n",
            "Epoch 17/20\n",
            "13/13 - 0s - 9ms/step - accuracy: 0.8487 - loss: 0.4199 - val_accuracy: 0.8300 - val_loss: 0.4001\n",
            "Epoch 18/20\n",
            "13/13 - 0s - 5ms/step - accuracy: 0.8537 - loss: 0.4099 - val_accuracy: 0.8350 - val_loss: 0.3941\n",
            "Epoch 19/20\n",
            "13/13 - 0s - 6ms/step - accuracy: 0.8512 - loss: 0.4011 - val_accuracy: 0.8300 - val_loss: 0.3873\n",
            "Epoch 20/20\n",
            "13/13 - 0s - 11ms/step - accuracy: 0.8487 - loss: 0.3926 - val_accuracy: 0.8250 - val_loss: 0.3825\n"
          ]
        },
        {
          "output_type": "stream",
          "name": "stderr",
          "text": [
            "WARNING:tensorflow:5 out of the last 15 calls to <function TensorFlowTrainer.make_predict_function.<locals>.one_step_on_data_distributed at 0x79df26da60e0> triggered tf.function retracing. Tracing is expensive and the excessive number of tracings could be due to (1) creating @tf.function repeatedly in a loop, (2) passing tensors with different shapes, (3) passing Python objects instead of tensors. For (1), please define your @tf.function outside of the loop. For (2), @tf.function has reduce_retracing=True option that can avoid unnecessary retracing. For (3), please refer to https://www.tensorflow.org/guide/function#controlling_retracing and https://www.tensorflow.org/api_docs/python/tf/function for  more details.\n"
          ]
        },
        {
          "output_type": "stream",
          "name": "stdout",
          "text": [
            "\u001b[1m7/7\u001b[0m \u001b[32m━━━━━━━━━━━━━━━━━━━━\u001b[0m\u001b[37m\u001b[0m \u001b[1m0s\u001b[0m 6ms/step \n",
            "Epoch 1/20\n",
            "13/13 - 1s - 94ms/step - accuracy: 0.4938 - loss: 0.8787 - val_accuracy: 0.4900 - val_loss: 0.8468\n",
            "Epoch 2/20\n",
            "13/13 - 0s - 9ms/step - accuracy: 0.5013 - loss: 0.8205 - val_accuracy: 0.4950 - val_loss: 0.7885\n",
            "Epoch 3/20\n",
            "13/13 - 0s - 6ms/step - accuracy: 0.5288 - loss: 0.7701 - val_accuracy: 0.5300 - val_loss: 0.7379\n",
            "Epoch 4/20\n",
            "13/13 - 0s - 6ms/step - accuracy: 0.5387 - loss: 0.7265 - val_accuracy: 0.5450 - val_loss: 0.6955\n",
            "Epoch 5/20\n",
            "13/13 - 0s - 5ms/step - accuracy: 0.5612 - loss: 0.6885 - val_accuracy: 0.5800 - val_loss: 0.6600\n",
            "Epoch 6/20\n",
            "13/13 - 0s - 5ms/step - accuracy: 0.5950 - loss: 0.6570 - val_accuracy: 0.6150 - val_loss: 0.6282\n",
            "Epoch 7/20\n",
            "13/13 - 0s - 12ms/step - accuracy: 0.6375 - loss: 0.6282 - val_accuracy: 0.6450 - val_loss: 0.5999\n",
            "Epoch 8/20\n",
            "13/13 - 0s - 5ms/step - accuracy: 0.6725 - loss: 0.6029 - val_accuracy: 0.7150 - val_loss: 0.5753\n",
            "Epoch 9/20\n",
            "13/13 - 0s - 5ms/step - accuracy: 0.6888 - loss: 0.5793 - val_accuracy: 0.7150 - val_loss: 0.5534\n",
            "Epoch 10/20\n",
            "13/13 - 0s - 6ms/step - accuracy: 0.7138 - loss: 0.5586 - val_accuracy: 0.7300 - val_loss: 0.5329\n",
            "Epoch 11/20\n",
            "13/13 - 0s - 11ms/step - accuracy: 0.7337 - loss: 0.5381 - val_accuracy: 0.7600 - val_loss: 0.5139\n",
            "Epoch 12/20\n",
            "13/13 - 0s - 9ms/step - accuracy: 0.7538 - loss: 0.5198 - val_accuracy: 0.7650 - val_loss: 0.4963\n",
            "Epoch 13/20\n",
            "13/13 - 0s - 11ms/step - accuracy: 0.7725 - loss: 0.5027 - val_accuracy: 0.7850 - val_loss: 0.4797\n",
            "Epoch 14/20\n",
            "13/13 - 0s - 7ms/step - accuracy: 0.7912 - loss: 0.4865 - val_accuracy: 0.7850 - val_loss: 0.4644\n",
            "Epoch 15/20\n",
            "13/13 - 0s - 10ms/step - accuracy: 0.8087 - loss: 0.4714 - val_accuracy: 0.8000 - val_loss: 0.4505\n",
            "Epoch 16/20\n",
            "13/13 - 0s - 10ms/step - accuracy: 0.8225 - loss: 0.4575 - val_accuracy: 0.8150 - val_loss: 0.4369\n",
            "Epoch 17/20\n",
            "13/13 - 0s - 9ms/step - accuracy: 0.8325 - loss: 0.4443 - val_accuracy: 0.8200 - val_loss: 0.4247\n",
            "Epoch 18/20\n",
            "13/13 - 0s - 6ms/step - accuracy: 0.8438 - loss: 0.4320 - val_accuracy: 0.8350 - val_loss: 0.4137\n",
            "Epoch 19/20\n",
            "13/13 - 0s - 9ms/step - accuracy: 0.8475 - loss: 0.4208 - val_accuracy: 0.8550 - val_loss: 0.4033\n",
            "Epoch 20/20\n",
            "13/13 - 0s - 8ms/step - accuracy: 0.8512 - loss: 0.4106 - val_accuracy: 0.8800 - val_loss: 0.3938\n"
          ]
        },
        {
          "output_type": "stream",
          "name": "stderr",
          "text": [
            "WARNING:tensorflow:5 out of the last 15 calls to <function TensorFlowTrainer.make_predict_function.<locals>.one_step_on_data_distributed at 0x79df274b2cb0> triggered tf.function retracing. Tracing is expensive and the excessive number of tracings could be due to (1) creating @tf.function repeatedly in a loop, (2) passing tensors with different shapes, (3) passing Python objects instead of tensors. For (1), please define your @tf.function outside of the loop. For (2), @tf.function has reduce_retracing=True option that can avoid unnecessary retracing. For (3), please refer to https://www.tensorflow.org/guide/function#controlling_retracing and https://www.tensorflow.org/api_docs/python/tf/function for  more details.\n"
          ]
        },
        {
          "output_type": "stream",
          "name": "stdout",
          "text": [
            "\u001b[1m7/7\u001b[0m \u001b[32m━━━━━━━━━━━━━━━━━━━━\u001b[0m\u001b[37m\u001b[0m \u001b[1m0s\u001b[0m 10ms/step\n",
            "Epoch 1/20\n",
            "13/13 - 2s - 128ms/step - accuracy: 0.5987 - loss: 0.6654 - val_accuracy: 0.5500 - val_loss: 0.6861\n",
            "Epoch 2/20\n",
            "13/13 - 0s - 30ms/step - accuracy: 0.6263 - loss: 0.6295 - val_accuracy: 0.5850 - val_loss: 0.6571\n",
            "Epoch 3/20\n",
            "13/13 - 0s - 10ms/step - accuracy: 0.6662 - loss: 0.5990 - val_accuracy: 0.6200 - val_loss: 0.6308\n",
            "Epoch 4/20\n",
            "13/13 - 0s - 8ms/step - accuracy: 0.6975 - loss: 0.5722 - val_accuracy: 0.6550 - val_loss: 0.6083\n",
            "Epoch 5/20\n",
            "13/13 - 0s - 6ms/step - accuracy: 0.7175 - loss: 0.5485 - val_accuracy: 0.6700 - val_loss: 0.5880\n",
            "Epoch 6/20\n",
            "13/13 - 0s - 6ms/step - accuracy: 0.7487 - loss: 0.5274 - val_accuracy: 0.6900 - val_loss: 0.5703\n",
            "Epoch 7/20\n",
            "13/13 - 0s - 5ms/step - accuracy: 0.7700 - loss: 0.5089 - val_accuracy: 0.7250 - val_loss: 0.5528\n",
            "Epoch 8/20\n",
            "13/13 - 0s - 6ms/step - accuracy: 0.7850 - loss: 0.4918 - val_accuracy: 0.7450 - val_loss: 0.5373\n",
            "Epoch 9/20\n",
            "13/13 - 0s - 10ms/step - accuracy: 0.8025 - loss: 0.4766 - val_accuracy: 0.7500 - val_loss: 0.5232\n",
            "Epoch 10/20\n",
            "13/13 - 0s - 10ms/step - accuracy: 0.8100 - loss: 0.4623 - val_accuracy: 0.7650 - val_loss: 0.5107\n",
            "Epoch 11/20\n",
            "13/13 - 0s - 11ms/step - accuracy: 0.8163 - loss: 0.4502 - val_accuracy: 0.7750 - val_loss: 0.4984\n",
            "Epoch 12/20\n",
            "13/13 - 0s - 11ms/step - accuracy: 0.8225 - loss: 0.4385 - val_accuracy: 0.7850 - val_loss: 0.4878\n",
            "Epoch 13/20\n",
            "13/13 - 0s - 12ms/step - accuracy: 0.8388 - loss: 0.4282 - val_accuracy: 0.7950 - val_loss: 0.4775\n",
            "Epoch 14/20\n",
            "13/13 - 0s - 9ms/step - accuracy: 0.8413 - loss: 0.4188 - val_accuracy: 0.8000 - val_loss: 0.4682\n",
            "Epoch 15/20\n",
            "13/13 - 0s - 6ms/step - accuracy: 0.8462 - loss: 0.4098 - val_accuracy: 0.7950 - val_loss: 0.4598\n",
            "Epoch 16/20\n",
            "13/13 - 0s - 11ms/step - accuracy: 0.8537 - loss: 0.4014 - val_accuracy: 0.7950 - val_loss: 0.4516\n",
            "Epoch 17/20\n",
            "13/13 - 0s - 6ms/step - accuracy: 0.8587 - loss: 0.3939 - val_accuracy: 0.7950 - val_loss: 0.4440\n",
            "Epoch 18/20\n",
            "13/13 - 0s - 11ms/step - accuracy: 0.8650 - loss: 0.3869 - val_accuracy: 0.7950 - val_loss: 0.4370\n",
            "Epoch 19/20\n",
            "13/13 - 0s - 9ms/step - accuracy: 0.8725 - loss: 0.3802 - val_accuracy: 0.8000 - val_loss: 0.4309\n",
            "Epoch 20/20\n",
            "13/13 - 0s - 10ms/step - accuracy: 0.8725 - loss: 0.3744 - val_accuracy: 0.8100 - val_loss: 0.4246\n",
            "\u001b[1m7/7\u001b[0m \u001b[32m━━━━━━━━━━━━━━━━━━━━\u001b[0m\u001b[37m\u001b[0m \u001b[1m0s\u001b[0m 6ms/step \n"
          ]
        }
      ]
    },
    {
      "cell_type": "code",
      "source": [],
      "metadata": {
        "id": "u92rVfq_P_XV"
      },
      "execution_count": null,
      "outputs": []
    }
  ]
}